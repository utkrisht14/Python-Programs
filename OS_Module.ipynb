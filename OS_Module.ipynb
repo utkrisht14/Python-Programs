{
 "cells": [
  {
   "cell_type": "markdown",
   "id": "cbf024b1-683b-4ff5-b1df-5957674878d8",
   "metadata": {},
   "source": [
    "# 1. OS Module"
   ]
  },
  {
   "cell_type": "markdown",
   "id": "89773bfd-d307-40e4-8c13-1979195734ca",
   "metadata": {},
   "source": [
    "### 1. Introduction"
   ]
  },
  {
   "cell_type": "code",
   "execution_count": 1,
   "id": "2bd2d37a-cbd1-4e2b-873b-c9dd220007c5",
   "metadata": {},
   "outputs": [],
   "source": [
    "import os"
   ]
  },
  {
   "cell_type": "code",
   "execution_count": 3,
   "id": "0acdcc18-968b-44db-8e2d-929c5bcc7f85",
   "metadata": {},
   "outputs": [
    {
     "data": {
      "text/plain": [
       "'C:\\\\Users\\\\utkri\\\\OneDrive\\\\Documents\\\\ML_Notes'"
      ]
     },
     "execution_count": 3,
     "metadata": {},
     "output_type": "execute_result"
    }
   ],
   "source": [
    "# To check the presenyt working directory \n",
    "os.getcwd()"
   ]
  },
  {
   "cell_type": "code",
   "execution_count": 8,
   "id": "9d714ee8-6a11-4cd8-b74e-543da4d2e42f",
   "metadata": {},
   "outputs": [
    {
     "data": {
      "text/plain": [
       "'C:\\\\Users\\\\utkri\\\\OneDrive\\\\Documents\\\\ML_Notes'"
      ]
     },
     "execution_count": 8,
     "metadata": {},
     "output_type": "execute_result"
    }
   ],
   "source": [
    "pwd"
   ]
  },
  {
   "cell_type": "code",
   "execution_count": 9,
   "id": "0d1a6998-f15f-4b99-b894-a0bfb435f6b6",
   "metadata": {},
   "outputs": [],
   "source": [
    "# But this will throw an error when some other text is also written on block \n",
    "# pwd"
   ]
  },
  {
   "cell_type": "code",
   "execution_count": 14,
   "id": "4a3bba17-67d1-40e5-a376-08996b3beddb",
   "metadata": {},
   "outputs": [
    {
     "name": "stdout",
     "output_type": "stream",
     "text": [
      " Volume in drive C is OS\n",
      " Volume Serial Number is E8CD-84B4\n",
      "\n",
      " Directory of C:\\Users\\utkri\\OneDrive\\Documents\\ML_Notes\n",
      "\n",
      "17/07/2024  21:31    <DIR>          .\n",
      "17/07/2024  16:44    <DIR>          ..\n",
      "17/07/2024  21:29    <DIR>          .ipynb_checkpoints\n",
      "20/05/2024  01:39         1,366,637 AUC ROC Curve.docx\n",
      "20/05/2024  17:58    <DIR>          Ch-6 Unsupervised Learning\n",
      "20/05/2024  01:42    <DIR>          Ch-7 Time Series\n",
      "19/05/2024  01:53    <DIR>          Ch-8 Ensemble Learning\n",
      "19/05/2024  01:54    <DIR>          Ch-9 Recommender System\n",
      "19/05/2024  11:42    <DIR>          Ch_0 Basics_DS_Programming\n",
      "20/05/2024  00:01    <DIR>          Ch_3 Machine Learning\n",
      "20/05/2024  12:07    <DIR>          Ch_4 Feature Engineering\n",
      "19/05/2024  02:08    <DIR>          Ch_5 Classification\n",
      "23/05/2024  21:23    <DIR>          Images\n",
      "17/07/2024  16:51    <DIR>          OOP in Python\n",
      "17/07/2024  21:31             1,678 OS_Module.ipynb\n",
      "17/07/2024  21:01    <DIR>          Time Series Analysis Full Udemy\n",
      "               2 File(s)      1,368,315 bytes\n",
      "              14 Dir(s)  246,422,458,368 bytes free\n"
     ]
    }
   ],
   "source": [
    "# To check the directory\n",
    "!dir"
   ]
  },
  {
   "cell_type": "markdown",
   "id": "40e403d5-6a85-48d6-a54a-29b12b81e78f",
   "metadata": {},
   "source": [
    "### 2. List Files and Folders in Python"
   ]
  },
  {
   "cell_type": "markdown",
   "id": "ee7ba687-59b7-4a00-8191-1d7f5cdf57e7",
   "metadata": {},
   "source": [
    "To see the list of files in the directory"
   ]
  },
  {
   "cell_type": "code",
   "execution_count": 15,
   "id": "504a561a-2d97-478c-bceb-8a129cfced98",
   "metadata": {},
   "outputs": [
    {
     "data": {
      "text/plain": [
       "['.ipynb_checkpoints',\n",
       " 'AUC ROC Curve.docx',\n",
       " 'Ch-6 Unsupervised Learning',\n",
       " 'Ch-7 Time Series',\n",
       " 'Ch-8 Ensemble Learning',\n",
       " 'Ch-9 Recommender System',\n",
       " 'Ch_0 Basics_DS_Programming',\n",
       " 'Ch_3 Machine Learning',\n",
       " 'Ch_4 Feature Engineering',\n",
       " 'Ch_5 Classification',\n",
       " 'Images',\n",
       " 'OOP in Python',\n",
       " 'OS_Module.ipynb',\n",
       " 'Time Series Analysis Full Udemy']"
      ]
     },
     "execution_count": 15,
     "metadata": {},
     "output_type": "execute_result"
    }
   ],
   "source": [
    "os.listdir()"
   ]
  },
  {
   "cell_type": "markdown",
   "id": "0eb7b756-c4a4-4ab8-a074-c237e6356246",
   "metadata": {},
   "source": [
    "To see the files inside a particular folder, write the name of the folder inside the bracket. See below:"
   ]
  },
  {
   "cell_type": "code",
   "execution_count": 18,
   "id": "27ba4f25-30ac-48fa-99f7-078c594a2c17",
   "metadata": {},
   "outputs": [
    {
     "data": {
      "text/plain": [
       "['.ipynb_checkpoints',\n",
       " 'img_1.bmp',\n",
       " 'img_2.bmp',\n",
       " 'img_3.bmp',\n",
       " 'Object_Oriented_Programming.ipynb']"
      ]
     },
     "execution_count": 18,
     "metadata": {},
     "output_type": "execute_result"
    }
   ],
   "source": [
    "os.listdir(\"OOP in Python\")"
   ]
  },
  {
   "cell_type": "markdown",
   "id": "f19d8a89-82db-4388-8185-ef1551ba7ef4",
   "metadata": {},
   "source": [
    "### 3. Create file and folder paths in Python"
   ]
  },
  {
   "cell_type": "code",
   "execution_count": 24,
   "id": "b1813288-d6ba-416d-a52e-9ed71464cd88",
   "metadata": {},
   "outputs": [],
   "source": [
    "import os\n",
    "import random"
   ]
  },
  {
   "cell_type": "code",
   "execution_count": 20,
   "id": "6a93e815-7f43-4a43-af22-c817c1acb5ff",
   "metadata": {},
   "outputs": [],
   "source": [
    "os.makedirs(\"new_folder\")"
   ]
  },
  {
   "cell_type": "code",
   "execution_count": 22,
   "id": "23b8adaf-3dd1-4722-83fd-02a080a82271",
   "metadata": {},
   "outputs": [
    {
     "data": {
      "text/plain": [
       "True"
      ]
     },
     "execution_count": 22,
     "metadata": {},
     "output_type": "execute_result"
    }
   ],
   "source": [
    "# To check whether the folder has been created or not\n",
    "\"new_folder\" in os.listdir()"
   ]
  },
  {
   "cell_type": "markdown",
   "id": "118aafcf-3237-4ab8-bddf-5c355a742405",
   "metadata": {},
   "source": [
    "To join files and folder together\n",
    "```Python \n",
    "os.path.join(\"folder_name\",\"filename\")\n",
    "```"
   ]
  },
  {
   "cell_type": "code",
   "execution_count": 26,
   "id": "e7620202-9d74-44d3-abec-4049062b8596",
   "metadata": {},
   "outputs": [
    {
     "data": {
      "text/plain": [
       "'img_1.bmp'"
      ]
     },
     "execution_count": 26,
     "metadata": {},
     "output_type": "execute_result"
    }
   ],
   "source": [
    "# Consider we pick one randomly from the path \n",
    "random_file = random.choice(os.listdir(\"OOP in Python\"))\n",
    "random_file"
   ]
  },
  {
   "cell_type": "code",
   "execution_count": 29,
   "id": "7bb7e3ad-f499-4e08-ac2c-ad3e77090d48",
   "metadata": {},
   "outputs": [
    {
     "data": {
      "text/plain": [
       "'C:\\\\Users\\\\utkri\\\\OneDrive\\\\Documents\\\\ML_Notes\\\\img_1.bmp'"
      ]
     },
     "execution_count": 29,
     "metadata": {},
     "output_type": "execute_result"
    }
   ],
   "source": [
    "# Let's join it to the present dorectory \n",
    "os.path.join(os.getcwd(),random_file)"
   ]
  },
  {
   "cell_type": "markdown",
   "id": "4a9cfb4a-809c-4621-a222-0d0e1737d5b8",
   "metadata": {},
   "source": [
    "If we want to make it as a directory in real, just combine it with `os.makedirs`"
   ]
  },
  {
   "cell_type": "code",
   "execution_count": 30,
   "id": "d189939c-5a9c-45fa-8fd9-6e73cd77a41f",
   "metadata": {},
   "outputs": [],
   "source": [
    "# os.makedirs(os.path.join(os.getcwd(),random_file))"
   ]
  },
  {
   "cell_type": "markdown",
   "id": "4704a90d-3235-4810-980f-1303d89dc446",
   "metadata": {},
   "source": [
    "&#x1F589; Note: This `os.path.join` can be combined with three values as well. See below: <br/>\n",
    "```Python\n",
    "os.path.join(\"folder\",\"subfolder\",\"file\")\n",
    "```"
   ]
  },
  {
   "cell_type": "markdown",
   "id": "df3be2f9-7d6c-4336-8075-d06b07a07757",
   "metadata": {},
   "source": [
    "### 4. Delete using Python "
   ]
  },
  {
   "cell_type": "markdown",
   "id": "625ccb52-d335-4f45-88c0-93238c230556",
   "metadata": {},
   "source": [
    "For deleting a file, first we create a file using filehandling method in Python and using `os` command we will delete it."
   ]
  },
  {
   "cell_type": "code",
   "execution_count": 32,
   "id": "29ab008c-bb1f-4bf6-9bf6-36aae655645c",
   "metadata": {},
   "outputs": [],
   "source": [
    "with open(\"example.txt\",\"w\") as file:\n",
    "    # Writing some text \n",
    "    file.write(\"This is first line of text.\\n\")\n",
    "    file.write(\"This is second line of text. \\n\")\n",
    "    file.close()"
   ]
  },
  {
   "cell_type": "markdown",
   "id": "da4454e6-12fa-418a-9b46-f42a36643323",
   "metadata": {},
   "source": [
    "Now let's check whether the file has been created or not."
   ]
  },
  {
   "cell_type": "code",
   "execution_count": 33,
   "id": "13abca3b-c744-4334-a65c-ed929da0c894",
   "metadata": {},
   "outputs": [
    {
     "data": {
      "text/plain": [
       "True"
      ]
     },
     "execution_count": 33,
     "metadata": {},
     "output_type": "execute_result"
    }
   ],
   "source": [
    "\"example.txt\" in os.listdir()"
   ]
  },
  {
   "cell_type": "markdown",
   "id": "f1c7368d-e210-4039-96ca-ac487f97e94b",
   "metadata": {},
   "source": [
    "So, it exists. Let's read some content from it."
   ]
  },
  {
   "cell_type": "code",
   "execution_count": 37,
   "id": "bf83c240-3796-482c-a919-a017df6ca625",
   "metadata": {},
   "outputs": [
    {
     "name": "stdout",
     "output_type": "stream",
     "text": [
      "This is first line of text.\n",
      "This is second line of text. \n",
      "\n"
     ]
    }
   ],
   "source": [
    "with open(\"example.txt\",\"r\") as file:\n",
    "    content = file.read()\n",
    "    print(content)\n",
    "    file.close()"
   ]
  },
  {
   "cell_type": "markdown",
   "id": "6e66e52d-c8df-438a-9b0d-e2eeb0179027",
   "metadata": {},
   "source": [
    "So, now let's delete this file. The command to delete is `os.remove(\"filename\")`"
   ]
  },
  {
   "cell_type": "code",
   "execution_count": 38,
   "id": "e919be51-58de-4bdc-8e29-6d48a2a2911c",
   "metadata": {},
   "outputs": [],
   "source": [
    "os.remove(\"example.txt\")"
   ]
  },
  {
   "cell_type": "code",
   "execution_count": 39,
   "id": "2a1ed4ea-aeb3-49e7-acdf-22f7d78de6ff",
   "metadata": {},
   "outputs": [
    {
     "data": {
      "text/plain": [
       "False"
      ]
     },
     "execution_count": 39,
     "metadata": {},
     "output_type": "execute_result"
    }
   ],
   "source": [
    "# Check the delete\n",
    "\"example.txt\" in os.listdir()"
   ]
  },
  {
   "cell_type": "markdown",
   "id": "9a372fd9-56dc-44c4-80dd-0c9d01790337",
   "metadata": {},
   "source": [
    "Now suppose the file is one up directory. Like file is stored in <i> My Documents </b>, which is one step ahead. So, we can delete this using two dots <i> \"..\" </i>."
   ]
  },
  {
   "cell_type": "code",
   "execution_count": 41,
   "id": "5f8bf73d-fce0-483d-8ee2-df82802bb06f",
   "metadata": {},
   "outputs": [],
   "source": [
    "os.remove(\"../file.txt\")"
   ]
  },
  {
   "cell_type": "markdown",
   "id": "520c86cb-357b-4c43-8eda-6b8f5eddf573",
   "metadata": {},
   "source": [
    "&#x1F589; Note: Using `os.remove()` will permanently delete your file."
   ]
  },
  {
   "cell_type": "markdown",
   "id": "9b91df98-7e71-49da-a83d-0b5d7be72953",
   "metadata": {},
   "source": [
    "### 5.Rename Folder/Directory in Python/OS module"
   ]
  },
  {
   "cell_type": "code",
   "execution_count": 53,
   "id": "d543f752-6d72-4609-a0fb-9aa04521e35c",
   "metadata": {},
   "outputs": [],
   "source": [
    "import os "
   ]
  },
  {
   "cell_type": "markdown",
   "id": "4c55e03f-c11a-48c9-b24d-48ed7e8f3291",
   "metadata": {},
   "source": [
    "Let's create a new file and rename it. Syntax is:\n",
    "```Python\n",
    "os.rename(\"source_name\",\"destination_name\")\n",
    "```"
   ]
  },
  {
   "cell_type": "code",
   "execution_count": 54,
   "id": "89b8fab9-9293-4247-b4c6-dde1663842b4",
   "metadata": {},
   "outputs": [],
   "source": [
    "os.makedirs(\"file.txt\")"
   ]
  },
  {
   "cell_type": "markdown",
   "id": "7ca71feb-a674-40f6-af96-183daec1fdfe",
   "metadata": {},
   "source": [
    "Please not that *\"file.txt\"* is a folder not a file."
   ]
  },
  {
   "cell_type": "code",
   "execution_count": 55,
   "id": "2bed9cb7-f2a2-4a9e-820d-39eb87f9f4c5",
   "metadata": {},
   "outputs": [],
   "source": [
    "# Let's rename this `file.txt` to `my_folder`\n",
    "os.rename(\"file.txt\",\"folder1\")"
   ]
  },
  {
   "cell_type": "code",
   "execution_count": 59,
   "id": "b26bc8e5-b744-4165-815e-e10b1b1e4028",
   "metadata": {},
   "outputs": [
    {
     "data": {
      "text/plain": [
       "True"
      ]
     },
     "execution_count": 59,
     "metadata": {},
     "output_type": "execute_result"
    }
   ],
   "source": [
    "\"folder1\" in os.listdir()"
   ]
  },
  {
   "cell_type": "markdown",
   "id": "8e4ae60a-8322-4839-a6d6-83f565564423",
   "metadata": {},
   "source": [
    "### 6. Delete files using Python/OS Module\n",
    "Initially we tried the `os.remove` method to delete the file. Now we are going to see a new method to see how to remove the directory.\n",
    "\n",
    "**os.remove**\n",
    "* Purpose: Deletes a file.\n",
    "* Usage: This function is used to remove a file from the filesystem.\n",
    "* Behavior: It deletes the specified file permanently.\n",
    "* Parameters: Takes a single parameter, which is the path to the file to be deleted.\n",
    "\n",
    "```Python\n",
    "import os\r\n",
    "\r\n",
    "file_path = 'example.txt'\r\n",
    "if os.path.exists(file_path):\r\n",
    "    os.remove(file_path)\r\n",
    "    print(f\"{file_path} has been deleted.\")\r\n",
    "else:\r\n",
    "    print(f\"{file_path} does not ex```ist.\")\r\n"
   ]
  },
  {
   "cell_type": "markdown",
   "id": "e9c39cbf-c610-474c-ad6b-81605eaed68a",
   "metadata": {},
   "source": [
    "Now let's see the functionality of `os.rmdir`\n",
    "\n",
    "**os.rmdir**\n",
    "\n",
    "* Purpose: Deletes an empty directory.\n",
    "* Usage: This function is used to remove an empty directory from the filesystem.\n",
    "* Behavior: It deletes the specified directory only if it is empty. If the directory contains files or other directories, it will raise an OSError.\n",
    "* Parameters: Takes a single parameter, which is the path to the directory to be deleted.\n",
    "\n",
    "```Python\n",
    "import os\r\n",
    "\r\n",
    "dir_path = 'empty_directory'\r\n",
    "if os.path.exists(dir_path):\r\n",
    "    try:\r\n",
    "        os.rmdir(dir_path)\r\n",
    "        print(f\"{dir_path} has been deleted.\")\r\n",
    "    except OSError as e:\r\n",
    "        print(f\"Error: {dir_path} is not empty.\")\r\n",
    "else:\r\n",
    "    print(f\"{dir_path} does no exist.\")\r\n"
   ]
  },
  {
   "cell_type": "markdown",
   "id": "e5a2a424-6493-46d3-9f91-4ef61cffdf2b",
   "metadata": {},
   "source": [
    "Let's delete a folder which has empty folders. We can use `os.walk()` method to check for the files inside a directory."
   ]
  },
  {
   "cell_type": "code",
   "execution_count": 61,
   "id": "79e5bc40-5c46-489a-8910-8675f333f43f",
   "metadata": {},
   "outputs": [
    {
     "data": {
      "text/plain": [
       "[('folder1', ['New folder'], []),\n",
       " ('folder1\\\\New folder', ['New folder'], []),\n",
       " ('folder1\\\\New folder\\\\New folder', [], [])]"
      ]
     },
     "execution_count": 61,
     "metadata": {},
     "output_type": "execute_result"
    }
   ],
   "source": [
    "list(os.walk(\"folder1\"))"
   ]
  },
  {
   "cell_type": "markdown",
   "id": "cd9807e2-deb1-4d41-9fde-4032598bd055",
   "metadata": {},
   "source": [
    "So, the \"folder1\" has two further subfolders."
   ]
  },
  {
   "cell_type": "code",
   "execution_count": 63,
   "id": "7d1d1189-a03c-45e3-99ca-3e6b127311c1",
   "metadata": {},
   "outputs": [
    {
     "ename": "OSError",
     "evalue": "[WinError 145] The directory is not empty: 'folder1'",
     "output_type": "error",
     "traceback": [
      "\u001b[1;31m---------------------------------------------------------------------------\u001b[0m",
      "\u001b[1;31mOSError\u001b[0m                                   Traceback (most recent call last)",
      "Cell \u001b[1;32mIn[63], line 2\u001b[0m\n\u001b[0;32m      1\u001b[0m \u001b[38;5;66;03m# Let's delete the folder which has folder inside it.\u001b[39;00m\n\u001b[1;32m----> 2\u001b[0m os\u001b[38;5;241m.\u001b[39mrmdir(\u001b[38;5;124m\"\u001b[39m\u001b[38;5;124mfolder1\u001b[39m\u001b[38;5;124m\"\u001b[39m)\n",
      "\u001b[1;31mOSError\u001b[0m: [WinError 145] The directory is not empty: 'folder1'"
     ]
    }
   ],
   "source": [
    "# Let's delete the folder which has folder inside it.\n",
    "os.rmdir(\"folder1\")"
   ]
  },
  {
   "cell_type": "markdown",
   "id": "4d51c2c0-5949-46b1-a9c3-da0e3a10c072",
   "metadata": {},
   "source": [
    "Now since it contains folders inside it, it cannot be deleted."
   ]
  },
  {
   "cell_type": "code",
   "execution_count": 68,
   "id": "cda5653e-b52c-41ed-98c8-3a1b478a2a38",
   "metadata": {},
   "outputs": [],
   "source": [
    "os.rmdir(r'folder1/New folder/New folder')"
   ]
  },
  {
   "cell_type": "code",
   "execution_count": 69,
   "id": "ea987ac2-98d0-403a-ad1c-01a32a4c6f57",
   "metadata": {},
   "outputs": [],
   "source": [
    "# Now the next \n",
    "os.rmdir(r'folder1/New folder')"
   ]
  },
  {
   "cell_type": "code",
   "execution_count": 70,
   "id": "a5d2c0be-7ace-478c-96b1-e34cbab0d8be",
   "metadata": {},
   "outputs": [],
   "source": [
    "# Now the final \n",
    "os.rmdir(\"folder1\")"
   ]
  },
  {
   "cell_type": "markdown",
   "id": "eae80974-3878-490b-845c-4206d64b819b",
   "metadata": {},
   "source": [
    "So, this is the step we need to follow if we have to delete the folders which contains some files or folders. "
   ]
  },
  {
   "cell_type": "markdown",
   "id": "f83c8ec7-cd01-4900-bc3e-4f10d5616b8d",
   "metadata": {},
   "source": [
    "### 7. Using `os.walk` module"
   ]
  },
  {
   "cell_type": "markdown",
   "id": "1438a760-4475-4bd2-9845-1fec41dbbc9c",
   "metadata": {},
   "source": [
    "The `os.walk` function in Python is used to generate the file names in a directory tree by walking either top-down or bottom-up. For each directory in the tree rooted at the directory specified, `os.walk` yields a 3-tuple:\n",
    "\n",
    "The directory path.\n",
    "1. A list of directory names in the current directory.\n",
    "2. A list of file names in the current directory.\n",
    "3. Here's an example that demonstrates how to use os.walk to recursively list all directories and files in a given directory:"
   ]
  },
  {
   "cell_type": "code",
   "execution_count": 71,
   "id": "786c4f33-4c21-46a0-bbc7-576241f3d5d6",
   "metadata": {},
   "outputs": [
    {
     "name": "stdout",
     "output_type": "stream",
     "text": [
      "Directory: Ch_4 Feature Engineering\n",
      "Subdirectory: .ipynb_checkpoints\n",
      "File: Feature Engineering.ipynb\n",
      "File: i-1.png\n",
      "File: i-10.png\n",
      "File: i-11.png\n",
      "File: i-12.png\n",
      "File: i-13.png\n",
      "File: i-14.png\n",
      "File: i-15.png\n",
      "File: i-16.png\n",
      "File: i-17.png\n",
      "File: i-18.png\n",
      "File: i-19.png\n",
      "File: i-2.png\n",
      "File: i-20.png\n",
      "File: i-21.png\n",
      "File: i-22.png\n",
      "File: i-23.png\n",
      "File: i-24.png\n",
      "File: i-25.png\n",
      "File: i-26.png\n",
      "File: i-27.png\n",
      "File: i-28.png\n",
      "File: i-29.png\n",
      "File: i-3.png\n",
      "File: i-30.png\n",
      "File: i-31.png\n",
      "File: i-4.png\n",
      "File: i-5.png\n",
      "File: i-6.png\n",
      "File: i-7.png\n",
      "File: i-8.png\n",
      "File: i-9.png\n",
      "Directory: Ch_4 Feature Engineering\\.ipynb_checkpoints\n",
      "File: Feature Engineering-checkpoint.ipynb\n"
     ]
    }
   ],
   "source": [
    "for dirpath, dirnames, filenames in os.walk(random.choice(os.listdir())):\n",
    "    print(f\"Directory: {dirpath}\")\n",
    "    for dirname in dirnames:\n",
    "        print(f\"Subdirectory: {dirname}\")\n",
    "    for filename in filenames:\n",
    "        print(f\"File: {filename}\")"
   ]
  },
  {
   "cell_type": "code",
   "execution_count": 74,
   "id": "0de97dfb-123b-4eca-970a-44b7576f0fae",
   "metadata": {},
   "outputs": [
    {
     "data": {
      "text/plain": [
       "[('Ch_4 Feature Engineering',\n",
       "  ['.ipynb_checkpoints'],\n",
       "  ['Feature Engineering.ipynb',\n",
       "   'i-1.png',\n",
       "   'i-10.png',\n",
       "   'i-11.png',\n",
       "   'i-12.png',\n",
       "   'i-13.png',\n",
       "   'i-14.png',\n",
       "   'i-15.png',\n",
       "   'i-16.png',\n",
       "   'i-17.png',\n",
       "   'i-18.png',\n",
       "   'i-19.png',\n",
       "   'i-2.png',\n",
       "   'i-20.png',\n",
       "   'i-21.png',\n",
       "   'i-22.png',\n",
       "   'i-23.png',\n",
       "   'i-24.png',\n",
       "   'i-25.png',\n",
       "   'i-26.png',\n",
       "   'i-27.png',\n",
       "   'i-28.png',\n",
       "   'i-29.png',\n",
       "   'i-3.png',\n",
       "   'i-30.png',\n",
       "   'i-31.png',\n",
       "   'i-4.png',\n",
       "   'i-5.png',\n",
       "   'i-6.png',\n",
       "   'i-7.png',\n",
       "   'i-8.png',\n",
       "   'i-9.png']),\n",
       " ('Ch_4 Feature Engineering\\\\.ipynb_checkpoints',\n",
       "  [],\n",
       "  ['Feature Engineering-checkpoint.ipynb'])]"
      ]
     },
     "execution_count": 74,
     "metadata": {},
     "output_type": "execute_result"
    }
   ],
   "source": [
    "# If I print list-wise\n",
    "list(os.walk(\"Ch_4 Feature Engineering\"))"
   ]
  },
  {
   "cell_type": "markdown",
   "id": "aacc4b82-6641-4407-94ca-614f312d65e5",
   "metadata": {},
   "source": [
    "### 8. Working with directories and path"
   ]
  },
  {
   "cell_type": "markdown",
   "id": "1c4a8cc1-3022-4a5d-8461-eacaf870ac73",
   "metadata": {},
   "source": [
    "In this section we are going to deal with various function. \n",
    "Starting with:\n",
    "* `os.path.abspath()`. This returns the complete path of the folder or directory."
   ]
  },
  {
   "cell_type": "code",
   "execution_count": 75,
   "id": "900bb9c1-1951-4f1b-91fd-381f1c3aaa40",
   "metadata": {},
   "outputs": [
    {
     "data": {
      "text/plain": [
       "'C:\\\\Users\\\\utkri\\\\OneDrive\\\\Documents\\\\ML_Notes\\\\Ch_4 Feature Engineering'"
      ]
     },
     "execution_count": 75,
     "metadata": {},
     "output_type": "execute_result"
    }
   ],
   "source": [
    "os.path.abspath(\"Ch_4 Feature Engineering\")"
   ]
  },
  {
   "cell_type": "markdown",
   "id": "fdac22b7-290c-43d5-ba47-899d836c855f",
   "metadata": {},
   "source": [
    "Now suppose we want to separate the file from the path. We can use `rsplit()`"
   ]
  },
  {
   "cell_type": "code",
   "execution_count": 80,
   "id": "7a37d2c9-8e82-4c79-851e-7c01e3588679",
   "metadata": {},
   "outputs": [],
   "source": [
    "file_path = os.path.abspath(\"Ch_4 Feature Engineering\\i-1.png\")"
   ]
  },
  {
   "cell_type": "code",
   "execution_count": 81,
   "id": "200372e5-e652-471a-86d1-5edf49202ed0",
   "metadata": {},
   "outputs": [
    {
     "data": {
      "text/plain": [
       "['C:\\\\Users\\\\utkri\\\\OneDrive\\\\Documents\\\\ML_Notes\\\\Ch_4 Feature Engineering',\n",
       " 'i-1.png']"
      ]
     },
     "execution_count": 81,
     "metadata": {},
     "output_type": "execute_result"
    }
   ],
   "source": [
    "file_path.rsplit(\"\\\\\",maxsplit=1)"
   ]
  },
  {
   "cell_type": "code",
   "execution_count": 82,
   "id": "5d543054-6822-4fe8-80df-2f87ddd73403",
   "metadata": {},
   "outputs": [
    {
     "data": {
      "text/plain": [
       "'i-1.png'"
      ]
     },
     "execution_count": 82,
     "metadata": {},
     "output_type": "execute_result"
    }
   ],
   "source": [
    "# And if we want file path explicitly \n",
    "file_path.rsplit(\"\\\\\",maxsplit=1)[1]"
   ]
  },
  {
   "cell_type": "markdown",
   "id": "8734bcba-932f-41cf-9f40-368920031d0d",
   "metadata": {},
   "source": [
    "Though it is not necessary to go through all this troubles. It can be simply done by `os.path.basename()` function. "
   ]
  },
  {
   "cell_type": "code",
   "execution_count": 83,
   "id": "d8ca068f-20b5-43c8-88a2-5a7982db969c",
   "metadata": {},
   "outputs": [
    {
     "data": {
      "text/plain": [
       "'i-1.png'"
      ]
     },
     "execution_count": 83,
     "metadata": {},
     "output_type": "execute_result"
    }
   ],
   "source": [
    "os.path.basename(file_path)"
   ]
  },
  {
   "cell_type": "markdown",
   "id": "4240463f-56f6-47e8-816b-f26f3b57c7a3",
   "metadata": {},
   "source": [
    "We can also check for if the file link exists or not.\n",
    "* os.path.isfile()- The function returns True if the specified path exists and is a regular file.\n",
    "It returns False if the path does not exist, or if it exists but is not a regular file (for example, if it is a directory or a symbolic link)."
   ]
  },
  {
   "cell_type": "code",
   "execution_count": 86,
   "id": "8f774d12-032e-4320-b863-3ea67d98b420",
   "metadata": {},
   "outputs": [
    {
     "data": {
      "text/plain": [
       "True"
      ]
     },
     "execution_count": 86,
     "metadata": {},
     "output_type": "execute_result"
    }
   ],
   "source": [
    "os.path.isfile(file_path)"
   ]
  },
  {
   "cell_type": "markdown",
   "id": "434b637b-4ff5-41a1-8a09-15a9d0eb0dad",
   "metadata": {},
   "source": [
    "### 9. Changing working directory "
   ]
  },
  {
   "cell_type": "code",
   "execution_count": 87,
   "id": "0d6088d9-fea9-4b77-95b7-139a00e6a443",
   "metadata": {},
   "outputs": [
    {
     "data": {
      "text/plain": [
       "'C:\\\\Users\\\\utkri\\\\OneDrive\\\\Documents\\\\ML_Notes'"
      ]
     },
     "execution_count": 87,
     "metadata": {},
     "output_type": "execute_result"
    }
   ],
   "source": [
    "# Get the current directory\n",
    "os.getcwd()"
   ]
  },
  {
   "cell_type": "markdown",
   "id": "b29d08ff-174a-4a83-8ea3-1deb001c5df0",
   "metadata": {},
   "source": [
    "We use `os.chdir()` function to change the path. Let's change the directory from current directory to the desktop. "
   ]
  },
  {
   "cell_type": "code",
   "execution_count": 88,
   "id": "9df7a66c-48fa-4e3b-b71b-98b65f77fe33",
   "metadata": {},
   "outputs": [],
   "source": [
    "os.chdir(r\"C:\\Users\\utkri\\OneDrive\\Desktop\")"
   ]
  },
  {
   "cell_type": "code",
   "execution_count": 89,
   "id": "e51a91c5-2e95-40b0-a902-8cc82a02c358",
   "metadata": {},
   "outputs": [
    {
     "data": {
      "text/plain": [
       "'C:\\\\Users\\\\utkri\\\\OneDrive\\\\Desktop'"
      ]
     },
     "execution_count": 89,
     "metadata": {},
     "output_type": "execute_result"
    }
   ],
   "source": [
    "os.getcwd()"
   ]
  },
  {
   "cell_type": "markdown",
   "id": "c1dde823-e6dc-4a8d-b283-2c477a9e0b43",
   "metadata": {},
   "source": [
    "So, it has successfully changed the directory."
   ]
  },
  {
   "cell_type": "markdown",
   "id": "91020937-9832-4eea-b958-5231c409dfd2",
   "metadata": {},
   "source": [
    "This expalins in the detail:\n",
    "\n",
    "```Python\n",
    "import os\r\n",
    "\r\n",
    "# Get and print the current working directory\r\n",
    "current_directory = os.getcwd()\r\n",
    "print(f\"Current working directory: {current_directory}\")\r\n",
    "\r\n",
    "# Specify the new directory path\r\n",
    "new_directory = '/path/to/new/directory'  # Replace with your desired path\r\n",
    "\r\n",
    "# Change the working directory\r\n",
    "try:\r\n",
    "    os.chdir(new_directory)\r\n",
    "    print(f\"Changed working directory to: {new_directory}\")\r\n",
    "except FileNotFoundError:\r\n",
    "    print(f\"The directory {new_directory} does not exist.\")\r\n",
    "except PermissionError:\r\n",
    "    print(f\"Permission denied to change to the directory {new_directory}.\")\r\n",
    "except Exception as e:\r\n",
    "    print(f\"An error occurred: {e}\")\r\n",
    "\r\n",
    "# Verify the change\r\n",
    "current_directory = os.getcwd()\r\n",
    "print(f\"New working directory: {current_directory}\")\r\n"
   ]
  },
  {
   "cell_type": "markdown",
   "id": "1cccb2c1-bc53-45a5-a944-930f2c219570",
   "metadata": {},
   "source": [
    "# 2. Shutil Module in Python"
   ]
  },
  {
   "cell_type": "markdown",
   "id": "8f4ff1a7-61d4-4d4c-a5ae-46e6e88cb50d",
   "metadata": {},
   "source": [
    "### 1. To move(cut) the file:\n",
    "To move a single file, we can use the `shutil.move()` function. It works similarly to the `shutil.copy()` function but also removes the original file after successfully moving it. For example, let's move a file named \"source_file.txt\" to a different location:')"
   ]
  },
  {
   "cell_type": "markdown",
   "id": "eb885c97-3afa-4ed8-a0e9-d1c88183e596",
   "metadata": {},
   "source": [
    "```Python\n",
    "shutil.move(\"source.txt\",\"destination.txt\")"
   ]
  },
  {
   "cell_type": "markdown",
   "id": "ebc268b7-eea9-4673-beb9-32fa8697a55b",
   "metadata": {},
   "source": [
    "After executing this code, \"source_file.txt\" will be moved to the specified destination directory, and it will no longer exist in its original location"
   ]
  },
  {
   "cell_type": "markdown",
   "id": "1077f5b5-2373-4be5-9649-a69dfd451274",
   "metadata": {},
   "source": [
    "### 2. Moving directories and their contents\n",
    "Moving directories with the Shutil module follows the same principles as moving files. The `shutil.move()` function can be used to move entire directories, including their contents. For instance, to move a directory named \"source_directory\" to a new location, we can use the following code:\n",
    "\n",
    "```Python\n",
    "import shutil\r\n",
    "\r\n",
    "shutil.move('source_directory', 'destination_directory/source_directory')"
   ]
  },
  {
   "cell_type": "markdown",
   "id": "119bbf22-a274-43ad-87af-1e438b8ffb72",
   "metadata": {},
   "source": [
    "### 3. Copying single files\r\n",
    "\r\n",
    "To copy a single file, we can use the `shutil.copy()` function. It takes two arguments: the path of the source file and the destination where the copy will be placed. For instance, suppose we have a file named \"source.txt\" in the current working directory, and we want to create a copy of it named \"destination.txt\". We can achieve this with the following code:"
   ]
  },
  {
   "cell_type": "markdown",
   "id": "1b3aa8d1-9085-4875-ace8-824990d788b7",
   "metadata": {},
   "source": [
    "```Python\n",
    "import shutil\r\n",
    "\r\n",
    "shutil.copy('source.txt', 'destination.txt')"
   ]
  },
  {
   "cell_type": "markdown",
   "id": "d491cba2-3a10-44cc-ac11-8cfbb8b01e02",
   "metadata": {},
   "source": [
    "Executing this code will move the entire \"source_directory\" and its contents to the specified destination directory."
   ]
  },
  {
   "cell_type": "markdown",
   "id": "527c5876-65e0-46ac-9674-5833c849a49b",
   "metadata": {},
   "source": [
    "### 4. Copying directories and their contents\n",
    "When it comes to copying entire directories, the `shutil.copytree()` function is the way to go. It allows us to recursively copy the contents of a source directory to a target directory. For example, let's say we have a directory named \"source_dir\" and we want to duplicate it into a new directory called \"target_dir\". We can do so using the following code:\n",
    "```Python\n",
    "import shutil\r\n",
    "\r\n",
    "shutil.copytree('source_dir', 'target_dir')"
   ]
  },
  {
   "cell_type": "markdown",
   "id": "d6a1142a-3397-4870-a7a8-aa4b33ff09af",
   "metadata": {},
   "source": [
    "Executing this code will create a new directory named \"target_dir\" and copy all the files and subdirectories from \"source_dir\" into it."
   ]
  },
  {
   "cell_type": "markdown",
   "id": "a1c4e86f-8cc7-4f65-9045-1ac7a886874a",
   "metadata": {},
   "source": [
    "### 5. Deleting Files and Directories\n",
    "Deleting files and directories is a common operation, and the Shutil module provides a simple function to accomplish this task.\r\n",
    "\r\n",
    "To delete a file, we can use the `os.remove()` function from the built−in `os` module. For example:"
   ]
  },
  {
   "cell_type": "markdown",
   "id": "910f049a-5533-46e4-985b-4b746203a940",
   "metadata": {},
   "source": [
    "```Python\n",
    "import os\r\n",
    "\r\n",
    "os.remove('file.txt')"
   ]
  },
  {
   "cell_type": "markdown",
   "id": "c1359e4c-5468-436f-bea4-3f8fc8e1312b",
   "metadata": {},
   "source": [
    "This code will delete the file named \"file.txt\"."
   ]
  },
  {
   "cell_type": "markdown",
   "id": "41f429d8-8220-4da1-900d-913495d99ad8",
   "metadata": {},
   "source": [
    "To delete an empty directory, we can use the `os.rmdir()` function. However, if the directory is not empty, we need to use the `shutil.rmtree()` function, which recursively removes the directory and all its contents. Here's an example:"
   ]
  },
  {
   "cell_type": "markdown",
   "id": "6bc45456-11d1-454c-bc01-556c2592bc50",
   "metadata": {},
   "source": [
    "```Python\n",
    "import shutil\r\n",
    "\r\n",
    "shutil.rmtree('directory')"
   ]
  },
  {
   "cell_type": "markdown",
   "id": "a740bcf8-e67c-4bca-abcb-567c678578ee",
   "metadata": {},
   "source": [
    "Executing this code will delete the \"directory\" and all its files and subdirectories."
   ]
  },
  {
   "cell_type": "markdown",
   "id": "aa38f50a-7bee-4f2b-827c-06e448fb8fc4",
   "metadata": {},
   "source": [
    "# 3. Miscellaneous "
   ]
  },
  {
   "cell_type": "markdown",
   "id": "22ed60be-5d1e-4189-8be8-29a430cca859",
   "metadata": {},
   "source": [
    "We can use Python to extract the ZipFile as well using `zipfile()` moudle.\n",
    "\n",
    "Below is the given sample code to execute this.\n",
    "\n",
    "```Python\n",
    "import zipfile\r\n",
    "\r\n",
    "# Specify the path to the ZIP file\r\n",
    "zip_file_path = 'path/to/your/file.zip'\r\n",
    "\r\n",
    "# Specify the directory to extract the files to\r\n",
    "extract_to_directory = 'path/to/extract/directory'\r\n",
    "\r\n",
    "# Open the ZIP file\r\n",
    "with zipfile.ZipFile(zip_file_path, 'r') as zip_ref:\r\n",
    "    # Extract all the contents\r\n",
    "    zip_ref.extractall(extract_to_directory)\r\n",
    "\r\n",
    "print(f\"All files have been extracted to {extract_to_directory}\")\r\n"
   ]
  },
  {
   "cell_type": "code",
   "execution_count": null,
   "id": "6a12d763-687f-435f-aede-5df86c1b7e62",
   "metadata": {},
   "outputs": [],
   "source": []
  }
 ],
 "metadata": {
  "kernelspec": {
   "display_name": "Python 3 (ipykernel)",
   "language": "python",
   "name": "python3"
  },
  "language_info": {
   "codemirror_mode": {
    "name": "ipython",
    "version": 3
   },
   "file_extension": ".py",
   "mimetype": "text/x-python",
   "name": "python",
   "nbconvert_exporter": "python",
   "pygments_lexer": "ipython3",
   "version": "3.11.5"
  }
 },
 "nbformat": 4,
 "nbformat_minor": 5
}
